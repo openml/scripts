{
 "cells": [
  {
   "cell_type": "code",
   "execution_count": 1,
   "metadata": {},
   "outputs": [],
   "source": [
    "import os, tempfile\n",
    "from pathlib import Path\n",
    "from glob import glob\n",
    "\n",
    "from langchain.chains import RetrievalQA, ConversationalRetrievalChain, LLMChain\n",
    "from langchain.embeddings import HuggingFaceEmbeddings\n",
    "from langchain.vectorstores import Chroma\n",
    "\n",
    "# from langchain.llms import VertexAI\n",
    "from langchain.llms import HuggingFaceHub\n",
    "from langchain.document_loaders import (\n",
    "    DirectoryLoader,\n",
    "    PyPDFLoader,\n",
    "    PyPDFDirectoryLoader,\n",
    "    DirectoryLoader,\n",
    ")\n",
    "from langchain.text_splitter import (\n",
    "    CharacterTextSplitter,\n",
    "    TextSplitter,\n",
    "    RecursiveCharacterTextSplitter,\n",
    ")\n",
    "from langchain.memory import ConversationBufferMemory\n",
    "from langchain.memory.chat_message_histories import ChatMessageHistory\n",
    "from langchain.prompts import PromptTemplate\n",
    "from langchain.indexes import VectorstoreIndexCreator\n",
    "from tqdm import tqdm\n",
    "import pickle\n",
    "from pqdm.threads import pqdm"
   ]
  },
  {
   "cell_type": "code",
   "execution_count": 4,
   "metadata": {},
   "outputs": [],
   "source": [
    "HUGGINGFACEHUB_API_KEY = os.environ.get(\"HUGGINGFACEHUB_API_TOKEN\")\n",
    "# use export HUGGINGFACEHUB_API_TOKEN=your_token_here to set the token (in the shell)\n"
   ]
  },
  {
   "cell_type": "code",
   "execution_count": 6,
   "metadata": {},
   "outputs": [],
   "source": [
    "import openml"
   ]
  },
  {
   "cell_type": "code",
   "execution_count": 7,
   "metadata": {},
   "outputs": [],
   "source": [
    "# Gather all OpenML datasets for semantic tagging\n",
    "all_datasets = openml.datasets.list_datasets(output_format=\"dataframe\")\n",
    "\n",
    "# List dataset 'did' to be used as an identifier \n",
    "data_id = []\n",
    "for i in range(len(all_datasets)):\n",
    "  data_id.append(all_datasets.iloc[i]['did'])\n",
    "\n",
    "# dictonary to hold {'did': dataset_decription}\n",
    "all_data_description = dict.fromkeys(data_id, \"\") \n",
    "\n"
   ]
  },
  {
   "cell_type": "code",
   "execution_count": 8,
   "metadata": {},
   "outputs": [
    {
     "data": {
      "text/plain": [
       "5477"
      ]
     },
     "execution_count": 8,
     "metadata": {},
     "output_type": "execute_result"
    }
   ],
   "source": [
    "len(all_datasets)"
   ]
  },
  {
   "cell_type": "code",
   "execution_count": null,
   "metadata": {},
   "outputs": [],
   "source": [
    "# all_datasets = all_datasets[:50]\n",
    "for i in tqdm(range(len(all_datasets)), total=len(all_datasets)):\n",
    "  dataset_name = all_datasets.iloc[i]['name']\n",
    "  try:\n",
    "    data = openml.datasets.get_dataset(dataset_name, download_data = False, download_qualities = False)\n",
    "    all_data_description[all_datasets.iloc[i]['did']] = data.description\n",
    "  except Exception as e:\n",
    "    print(e)\n",
    "\n",
    "# Save the data to a file\n",
    "with open('all_data_description.pkl', 'wb') as f:\n",
    "  pickle.dump(all_data_description, f)"
   ]
  },
  {
   "cell_type": "code",
   "execution_count": 7,
   "metadata": {},
   "outputs": [],
   "source": [
    "def get_dataset_description(dataset_name) -> openml.datasets.dataset.OpenMLDataset:\n",
    "    try:\n",
    "        data = openml.datasets.get_dataset(dataset_name, download_data = False, download_qualities = False, download_features_meta_data = False)\n",
    "    except Exception as e:\n",
    "        print(e)\n",
    "    return data"
   ]
  },
  {
   "cell_type": "code",
   "execution_count": 8,
   "metadata": {},
   "outputs": [
    {
     "data": {
      "application/vnd.jupyter.widget-view+json": {
       "model_id": "c03f1a3425ad4dcdbb012dd829b289fd",
       "version_major": 2,
       "version_minor": 0
      },
      "text/plain": [
       "QUEUEING TASKS | :   0%|          | 0/5477 [00:00<?, ?it/s]"
      ]
     },
     "metadata": {},
     "output_type": "display_data"
    },
    {
     "data": {
      "application/vnd.jupyter.widget-view+json": {
       "model_id": "ba1d050188334014bddf8b955ee1914c",
       "version_major": 2,
       "version_minor": 0
      },
      "text/plain": [
       "PROCESSING TASKS | :   0%|          | 0/5477 [00:00<?, ?it/s]"
      ]
     },
     "metadata": {},
     "output_type": "display_data"
    },
    {
     "data": {
      "application/vnd.jupyter.widget-view+json": {
       "model_id": "ea6eef11318f4cd9996273b86adb57c1",
       "version_major": 2,
       "version_minor": 0
      },
      "text/plain": [
       "COLLECTING RESULTS | :   0%|          | 0/5477 [00:00<?, ?it/s]"
      ]
     },
     "metadata": {},
     "output_type": "display_data"
    }
   ],
   "source": [
    "dataset_names = all_datasets['name'].tolist() # get a list of all dataset names\n",
    "# Run the function to get the dataset descriptions parallelly using pqdm\n",
    "all_data_descriptions = pqdm(dataset_names, get_dataset_description, n_jobs=10)"
   ]
  },
  {
   "cell_type": "code",
   "execution_count": 20,
   "metadata": {},
   "outputs": [],
   "source": [
    "with open('all_data_descriptions.pkl', 'wb') as f:\n",
    "  pickle.dump(all_data_descriptions, f)"
   ]
  },
  {
   "cell_type": "code",
   "execution_count": null,
   "metadata": {},
   "outputs": [],
   "source": [
    "# all_data_description[all_datasets.iloc[i]['did']] \n",
    "descriptions = [all_data_descriptions[i].description for i in range(len(all_data_descriptions))]\n",
    "\n",
    "all_data_description = dict(zip(data_id, descriptions))"
   ]
  },
  {
   "cell_type": "code",
   "execution_count": 7,
   "metadata": {},
   "outputs": [],
   "source": [
    "# convert the dictionary to a dataframe\n",
    "import pandas as pd\n",
    "df = pd.DataFrame(list(all_data_description.items()),columns = ['did','description'])"
   ]
  },
  {
   "cell_type": "code",
   "execution_count": 8,
   "metadata": {},
   "outputs": [
    {
     "name": "stdout",
     "output_type": "stream",
     "text": [
      "1. Title: Dermatology Database\n",
      "\n",
      "2. Source Information:\n",
      "   (a) Original owners:\n",
      "       -- 1. Nilsel Ilter, M.D., Ph.D., \n",
      "             Gazi University, \n",
      "             School of Medicine\n",
      "             06510 Ankara, Turkey\n",
      "             Phone: +90 (312) 214 1080\n",
      "\n",
      "       -- 2. H. Altay Guvenir, PhD., \n",
      "             Bilkent University,\n",
      "             Department of Computer Engineering and Information Science,\n",
      "             06533 Ankara, Turkey\n",
      "             Phone: +90 (312) 266 4133\n",
      "             Email: guvenir@cs.bilkent.edu.tr\n",
      "\n",
      "   (b) Donor: H. Altay Guvenir,\n",
      "              Bilkent University,\n",
      "              Department of Computer Engineering and Information Science,\n",
      "              06533 Ankara, Turkey\n",
      "              Phone: +90 (312) 266 4133\n",
      "              Email: guvenir@cs.bilkent.edu.tr\n",
      "\n",
      "   (c) Date:  January, 1998\n",
      "\n",
      "3. Past Usage:\n",
      "   1. G. Demiroz, H. A. Govenir, and N. Ilter, \n",
      "      \"Learning Differential Diagnosis of Eryhemato-Squamous Diseases using\n",
      "       Voting Feature Intervals\", Aritificial Intelligence in Medicine,\n",
      "\n",
      "      The aim is to determine the type of Eryhemato-Squamous Disease.\n",
      "\n",
      "4. Relevant Information:\n",
      "     This database contains 34 attributes, 33 of which are linear\n",
      "     valued and one of them is nominal. \n",
      "\n",
      "     The differential diagnosis of erythemato-squamous diseases is a real\n",
      "     problem in dermatology. They all share the clinical features of\n",
      "     erythema and scaling, with very little differences. The diseases in\n",
      "     this group are psoriasis, seboreic dermatitis, lichen planus, \n",
      "     pityriasis rosea, cronic dermatitis, and pityriasis rubra pilaris.\n",
      "     Usually a biopsy is necessary for the diagnosis but unfortunately\n",
      "     these diseases share many histopathological features as\n",
      "     well. Another difficulty for the differential diagnosis is that a\n",
      "     disease may show the features of another disease at the beginning\n",
      "     stage and may have the characteristic features at the following stages. \n",
      "     Patients were first evaluated clinically with 12 features.\n",
      "     Afterwards, skin samples were taken for the evaluation of 22\n",
      "     histopathological features. The values of the histopathological features\n",
      "     are determined by an analysis of the samples under a microscope. \n",
      "\n",
      "     In the dataset constructed for this domain, the family history feature\n",
      "     has the value 1 if any of these diseases has been observed in the\n",
      "     family, and 0 otherwise. The age feature simply represents the age of\n",
      "     the patient. Every other feature (clinical and histopathological) was\n",
      "     given a degree in the range of 0 to 3. Here, 0 indicates that the\n",
      "     feature was not present, 3 indicates the largest amount possible,\n",
      "     and 1, 2 indicate the relative intermediate values.\n",
      "\n",
      "     The names and id numbers of the patients were recently \n",
      "     removed from the database.\n",
      "\n",
      "5. Number of Instances: 366\n",
      "\n",
      "6. Number of Attributes: 34\n",
      "\n",
      "7. Attribute Information:\n",
      "   -- Complete attribute documentation:\n",
      "      Clinical Attributes: (take values 0, 1, 2, 3, unless otherwise indicated)\n",
      "      1: erythema\n",
      "      2: scaling\n",
      "      3: definite borders\n",
      "      4: itching\n",
      "      5: koebner phenomenon\n",
      "      6: polygonal papules\n",
      "      7: follicular papules\n",
      "      8: oral mucosal involvement\n",
      "      9: knee and elbow involvement\n",
      "     10: scalp involvement\n",
      "     11: family history, (0 or 1)\n",
      "     34: Age (linear)\n",
      "\n",
      "     Histopathological Attributes: (take values 0, 1, 2, 3)\n",
      "     12: melanin incontinence\n",
      "     13: eosinophils in the infiltrate\n",
      "     14: PNL infiltrate\n",
      "     15: fibrosis of the papillary dermis\n",
      "     16: exocytosis\n",
      "     17: acanthosis\n",
      "     18: hyperkeratosis\n",
      "     19: parakeratosis\n",
      "     20: clubbing of the rete ridges\n",
      "     21: elongation of the rete ridges\n",
      "     22: thinning of the suprapapillary epidermis\n",
      "     23: spongiform pustule\n",
      "     24: munro microabcess\n",
      "     25: focal hypergranulosis\n",
      "     26: disappearance of the granular layer\n",
      "     27: vacuolisation and damage of basal layer\n",
      "     28: spongiosis\n",
      "     29: saw-tooth appearance of retes\n",
      "     30: follicular horn plug\n",
      "     31: perifollicular parakeratosis\n",
      "     32: inflammatory monoluclear inflitrate\n",
      "     33: band-like infiltrate\n",
      "      \n",
      "8. Missing Attribute Values: 8 (in Age attribute). Distinguished with '?'.\n",
      "\n",
      "9. Class Distribution:\n",
      "       Database:  Dermatology\n",
      "       \n",
      "       Class code:   Class:                  Number of instances:\n",
      "       1             psoriasis\t\t\t    112\n",
      "       2             seboreic dermatitis             61\n",
      "       3             lichen planus                   72\n",
      "       4             pityriasis rosea                49\n",
      "       5             cronic dermatitis               52    \n",
      "       6             pityriasis rubra pilaris        20\n"
     ]
    }
   ],
   "source": [
    "print(df.loc[29]['description'])"
   ]
  },
  {
   "cell_type": "code",
   "execution_count": 9,
   "metadata": {},
   "outputs": [],
   "source": [
    "# remove the rows with empty descriptions\n",
    "df = df[df['description'] != '']"
   ]
  },
  {
   "cell_type": "code",
   "execution_count": 10,
   "metadata": {},
   "outputs": [
    {
     "data": {
      "text/plain": [
       "(50, 2)"
      ]
     },
     "execution_count": 10,
     "metadata": {},
     "output_type": "execute_result"
    }
   ],
   "source": [
    "df.shape"
   ]
  },
  {
   "cell_type": "code",
   "execution_count": 11,
   "metadata": {},
   "outputs": [
    {
     "data": {
      "text/html": [
       "<div>\n",
       "<style scoped>\n",
       "    .dataframe tbody tr th:only-of-type {\n",
       "        vertical-align: middle;\n",
       "    }\n",
       "\n",
       "    .dataframe tbody tr th {\n",
       "        vertical-align: top;\n",
       "    }\n",
       "\n",
       "    .dataframe thead th {\n",
       "        text-align: right;\n",
       "    }\n",
       "</style>\n",
       "<table border=\"1\" class=\"dataframe\">\n",
       "  <thead>\n",
       "    <tr style=\"text-align: right;\">\n",
       "      <th></th>\n",
       "      <th>did</th>\n",
       "      <th>description</th>\n",
       "    </tr>\n",
       "  </thead>\n",
       "  <tbody>\n",
       "    <tr>\n",
       "      <th>0</th>\n",
       "      <td>2</td>\n",
       "      <td>**Author**: Unknown. Donated by David Sterling...</td>\n",
       "    </tr>\n",
       "    <tr>\n",
       "      <th>1</th>\n",
       "      <td>3</td>\n",
       "      <td>Author: Alen Shapiro\\nSource: [UCI](https://ar...</td>\n",
       "    </tr>\n",
       "    <tr>\n",
       "      <th>2</th>\n",
       "      <td>4</td>\n",
       "      <td>**Author**: Unknown\\n**Source**: Collective Ba...</td>\n",
       "    </tr>\n",
       "    <tr>\n",
       "      <th>3</th>\n",
       "      <td>5</td>\n",
       "      <td>**Author**: H. Altay Guvenir, Burak Acar, Hald...</td>\n",
       "    </tr>\n",
       "    <tr>\n",
       "      <th>4</th>\n",
       "      <td>6</td>\n",
       "      <td>**Author**: David J. Slate  \\n**Source**: [UCI...</td>\n",
       "    </tr>\n",
       "  </tbody>\n",
       "</table>\n",
       "</div>"
      ],
      "text/plain": [
       "   did                                        description\n",
       "0    2  **Author**: Unknown. Donated by David Sterling...\n",
       "1    3  Author: Alen Shapiro\\nSource: [UCI](https://ar...\n",
       "2    4  **Author**: Unknown\\n**Source**: Collective Ba...\n",
       "3    5  **Author**: H. Altay Guvenir, Burak Acar, Hald...\n",
       "4    6  **Author**: David J. Slate  \\n**Source**: [UCI..."
      ]
     },
     "execution_count": 11,
     "metadata": {},
     "output_type": "execute_result"
    }
   ],
   "source": [
    "df.head()"
   ]
  },
  {
   "cell_type": "code",
   "execution_count": 12,
   "metadata": {},
   "outputs": [
    {
     "name": "stderr",
     "output_type": "stream",
     "text": [
      "/Users/eragon/.pyenv/versions/3.9.19/envs/openml/lib/python3.9/site-packages/huggingface_hub/file_download.py:1132: FutureWarning: `resume_download` is deprecated and will be removed in version 1.0.0. Downloads always resume when possible. If you want to force a new download, use `force_download=True`.\n",
      "  warnings.warn(\n"
     ]
    }
   ],
   "source": [
    "model_name = \"sentence-transformers/all-mpnet-base-v2\"\n",
    "model_kwargs = {\"device\": \"cpu\"}\n",
    "encode_kwargs = {\"normalize_embeddings\": True}\n",
    "embeddings = HuggingFaceEmbeddings(\n",
    "    model_name=model_name, model_kwargs=model_kwargs, encode_kwargs=encode_kwargs\n",
    ")"
   ]
  },
  {
   "cell_type": "code",
   "execution_count": 13,
   "metadata": {},
   "outputs": [],
   "source": [
    "from langchain.document_loaders import DataFrameLoader"
   ]
  },
  {
   "cell_type": "code",
   "execution_count": 14,
   "metadata": {},
   "outputs": [],
   "source": [
    "loader = DataFrameLoader(df, page_content_column=\"description\")\n",
    "documents = loader.load()"
   ]
  },
  {
   "cell_type": "code",
   "execution_count": 15,
   "metadata": {},
   "outputs": [],
   "source": [
    "vectordb = Chroma.from_documents(\n",
    "        documents, embedding=embeddings, persist_directory=\"./testdir\"\n",
    "    )\n"
   ]
  },
  {
   "cell_type": "code",
   "execution_count": 16,
   "metadata": {},
   "outputs": [],
   "source": [
    "from langchain.embeddings import OpenAIEmbeddings\n",
    "from langchain.chat_models import ChatOpenAI\n"
   ]
  },
  {
   "cell_type": "code",
   "execution_count": 22,
   "metadata": {},
   "outputs": [],
   "source": [
    "retriever = vectordb.as_retriever(search_type=\"similarity\", search_kwargs={\"k\": 5})\n",
    "\n",
    "# Initiate llm generator. Temperature = 0 (Not creative). Temperature = 1 (Creative). Using\n",
    "llm = HuggingFaceHub(\n",
    "    # repo_id=\"declare-lab/flan-alpaca-large\",\n",
    "    # repo_id = \"google/flan-t5-large\",\n",
    "    repo_id = \"HuggingFaceH4/zephyr-7b-beta\",\n",
    "    # repo_id=\"google/flan-t5-large\",\n",
    "    model_kwargs={\"temperature\": 0.1, \"max_length\": 512},\n",
    "    huggingfacehub_api_token=HUGGINGFACEHUB_API_KEY,\n",
    ")\n"
   ]
  },
  {
   "cell_type": "code",
   "execution_count": 23,
   "metadata": {},
   "outputs": [],
   "source": [
    "rqa_prompt_template = \"This database is a list of dataset metadata. Use the following pieces of context to find the relevant document. Answer only from the context given using the {question} given. If you do not know the answer, say you do not know. {context}\""
   ]
  },
  {
   "cell_type": "code",
   "execution_count": 24,
   "metadata": {},
   "outputs": [],
   "source": [
    "RQA_PROMPT = PromptTemplate(\n",
    "    template=rqa_prompt_template, input_variables=[\"context\", \"question\"]\n",
    ")\n",
    "rqa_chain_type_kwargs = {\"prompt\": RQA_PROMPT}"
   ]
  },
  {
   "cell_type": "code",
   "execution_count": 25,
   "metadata": {},
   "outputs": [],
   "source": [
    "qa = RetrievalQA.from_chain_type(\n",
    "    llm,\n",
    "    # chain_type=\"stuff\",\n",
    "    retriever=retriever,\n",
    "    chain_type_kwargs=rqa_chain_type_kwargs,\n",
    "    return_source_documents=True,\n",
    "    verbose=False,\n",
    ")"
   ]
  },
  {
   "cell_type": "code",
   "execution_count": 42,
   "metadata": {},
   "outputs": [],
   "source": [
    "# query = \"Find me documents that talk about diseases\"\n",
    "query = \"Which datasets are good for finance problems\"\n",
    "result = qa({\"query\": query})"
   ]
  },
  {
   "cell_type": "code",
   "execution_count": 43,
   "metadata": {},
   "outputs": [
    {
     "data": {
      "text/plain": [
       "{'query': 'Which datasets are good for finance problems',\n",
       " 'result': 'This database is a list of dataset metadata. Use the following pieces of context to find the relevant document. Answer only from the context given using the Which datasets are good for finance problems given. If you do not know the answer, say you do not know. **Author**: Dr. Hans Hofmann  \\n**Source**: [UCI](https://archive.ics.uci.edu/ml/datasets/statlog+(german+credit+data)) - 1994    \\n**Please cite**: [UCI](https://archive.ics.uci.edu/ml/citation_policy.html)\\n\\n**German Credit dataset**  \\nThis dataset classifies people described by a set of attributes as good or bad credit risks.\\n\\nThis dataset comes with a cost matrix: \\n``` \\nGood  Bad (predicted)  \\nGood   0    1   (actual)  \\nBad    5    0  \\n```\\n\\nIt is worse to class a customer as good when they are bad (5), than it is to class a customer as bad when they are good (1).  \\n\\n### Attribute description  \\n\\n1. Status of existing checking account, in Deutsche Mark.  \\n2. Duration in months  \\n3. Credit history (credits taken, paid back duly, delays, critical accounts)  \\n4. Purpose of the credit (car, television,...)  \\n5. Credit amount  \\n6. Status of savings account/bonds, in Deutsche Mark.  \\n7. Present employment, in number of years.  \\n8. Installment rate in percentage of disposable income  \\n9. Personal status (married, single,...) and sex  \\n10. Other debtors / guarantors  \\n11. Present residence since X years  \\n12. Property (e.g. real estate)  \\n13. Age in years  \\n14. Other installment plans (banks, stores)  \\n15. Housing (rent, own,...)  \\n16. Number of existing credits at this bank  \\n17. Job  \\n18. Number of people being liable to provide maintenance for  \\n19. Telephone (yes,no)  \\n20. Foreign worker (yes,no)\\n\\n**Author**: Dr. Hans Hofmann  \\n**Source**: [UCI](https://archive.ics.uci.edu/ml/datasets/statlog+(german+credit+data)) - 1994    \\n**Please cite**: [UCI](https://archive.ics.uci.edu/ml/citation_policy.html)\\n\\n**German Credit dataset**  \\nThis dataset classifies people described by a set of attributes as good or bad credit risks.\\n\\nThis dataset comes with a cost matrix: \\n``` \\nGood  Bad (predicted)  \\nGood   0    1   (actual)  \\nBad    5    0  \\n```\\n\\nIt is worse to class a customer as good when they are bad (5), than it is to class a customer as bad when they are good (1).  \\n\\n### Attribute description  \\n\\n1. Status of existing checking account, in Deutsche Mark.  \\n2. Duration in months  \\n3. Credit history (credits taken, paid back duly, delays, critical accounts)  \\n4. Purpose of the credit (car, television,...)  \\n5. Credit amount  \\n6. Status of savings account/bonds, in Deutsche Mark.  \\n7. Present employment, in number of years.  \\n8. Installment rate in percentage of disposable income  \\n9. Personal status (married, single,...) and sex  \\n10. Other debtors / guarantors  \\n11. Present residence since X years  \\n12. Property (e.g. real estate)  \\n13. Age in years  \\n14. Other installment plans (banks, stores)  \\n15. Housing (rent, own,...)  \\n16. Number of existing credits at this bank  \\n17. Job  \\n18. Number of people being liable to provide maintenance for  \\n19. Telephone (yes,no)  \\n20. Foreign worker (yes,no)\\n\\n**Author**: Dr. Hans Hofmann  \\n**Source**: [UCI](https://archive.ics.uci.edu/ml/datasets/statlog+(german+credit+data)) - 1994    \\n**Please cite**: [UCI](https://archive.ics.uci.edu/ml/citation_policy.html)\\n\\n**German Credit dataset**  \\nThis dataset classifies people described by a set of attributes as good or bad credit risks.\\n\\nThis dataset comes with a cost matrix: \\n``` \\nGood  Bad (predicted)  \\nGood   0    1   (actual)  \\nBad    5    0  \\n```\\n\\nIt is worse to class a customer as good when they are bad (5), than it is to class a customer as bad when they are good (1).  \\n\\n### Attribute description  \\n\\n1. Status of existing checking account, in Deutsche Mark.  \\n2. Duration in months  \\n3. Credit history (credits taken, paid back duly, delays, critical accounts)  \\n4. Purpose of the credit (car, television,...)  \\n5. Credit amount  \\n6. Status of savings account/bonds, in Deutsche Mark.  \\n7. Present employment, in number of years.  \\n8. Installment rate in percentage of disposable income  \\n9. Personal status (married, single,...) and sex  \\n10. Other debtors / guarantors  \\n11. Present residence since X years  \\n12. Property (e.g. real estate)  \\n13. Age in years  \\n14. Other installment plans (banks, stores)  \\n15. Housing (rent, own,...)  \\n16. Number of existing credits at this bank  \\n17. Job  \\n18. Number of people being liable to provide maintenance for  \\n19. Telephone (yes,no)  \\n20. Foreign worker (yes,no)\\n\\n**Author**: Dr. Hans Hofmann  \\n**Source**: [UCI](https://archive.ics.uci.edu/ml/datasets/statlog+(german+credit+data)) - 1994    \\n**Please cite**: [UCI](https://archive.ics.uci.edu/ml/citation_policy.html)\\n\\n**German Credit dataset**  \\nThis dataset classifies people described by a set of attributes as good or bad credit risks.\\n\\nThis dataset comes with a cost matrix: \\n``` \\nGood  Bad (predicted)  \\nGood   0    1   (actual)  \\nBad    5    0  \\n```\\n\\nIt is worse to class a customer as good when they are bad (5), than it is to class a customer as bad when they are good (1).  \\n\\n### Attribute description  \\n\\n1. Status of existing checking account, in Deutsche Mark.  \\n2. Duration in months  \\n3. Credit history (credits taken, paid back duly, delays, critical accounts)  \\n4. Purpose of the credit (car, television,...)  \\n5. Credit amount  \\n6. Status of savings account/bonds, in Deutsche Mark.  \\n7. Present employment, in number of years.  \\n8. Installment rate in percentage of disposable income  \\n9. Personal status (married, single,...) and sex  \\n10. Other debtors / guarantors  \\n11. Present residence since X years  \\n12. Property (e.g. real estate)  \\n13. Age in years  \\n14. Other installment plans (banks, stores)  \\n15. Housing (rent, own,...)  \\n16. Number of existing credits at this bank  \\n17. Job  \\n18. Number of people being liable to provide maintenance for  \\n19. Telephone (yes,no)  \\n20. Foreign worker (yes,no)\\n\\n**Author**: Confidential - Donated by Ross Quinlan   \\n**Source**: [UCI](http://archive.ics.uci.edu/ml/datasets/credit+approval) - 1987  \\n**Please cite**: [UCI](http://archive.ics.uci.edu/ml/citation_policy.html)  \\n\\n**Credit Approval**\\nThis file concerns credit card applications. All attribute names and values have been changed to meaningless symbols to protect the confidentiality of the data.  \\n   \\nThis dataset is interesting because there is a good mix of attributes -- continuous, nominal with small numbers of values, and nominal with larger numbers of values.  There are also a few missing values.\\n\\n### Attribute description  \\n\\n1. Credit history (number of times line was delinquent)\\n2. Present employment since registration month (number of months)\\n3. Monthly income (in dollars)\\n4. Number of existing credits (this count includes the credit being applied for)\\n5. The statement balance (in dollars)\\n6. Amount of credit requested (in dollars)\\n7. The repayment rate (this is the proportion of the',\n",
       " 'source_documents': [Document(page_content='**Author**: Dr. Hans Hofmann  \\n**Source**: [UCI](https://archive.ics.uci.edu/ml/datasets/statlog+(german+credit+data)) - 1994    \\n**Please cite**: [UCI](https://archive.ics.uci.edu/ml/citation_policy.html)\\n\\n**German Credit dataset**  \\nThis dataset classifies people described by a set of attributes as good or bad credit risks.\\n\\nThis dataset comes with a cost matrix: \\n``` \\nGood  Bad (predicted)  \\nGood   0    1   (actual)  \\nBad    5    0  \\n```\\n\\nIt is worse to class a customer as good when they are bad (5), than it is to class a customer as bad when they are good (1).  \\n\\n### Attribute description  \\n\\n1. Status of existing checking account, in Deutsche Mark.  \\n2. Duration in months  \\n3. Credit history (credits taken, paid back duly, delays, critical accounts)  \\n4. Purpose of the credit (car, television,...)  \\n5. Credit amount  \\n6. Status of savings account/bonds, in Deutsche Mark.  \\n7. Present employment, in number of years.  \\n8. Installment rate in percentage of disposable income  \\n9. Personal status (married, single,...) and sex  \\n10. Other debtors / guarantors  \\n11. Present residence since X years  \\n12. Property (e.g. real estate)  \\n13. Age in years  \\n14. Other installment plans (banks, stores)  \\n15. Housing (rent, own,...)  \\n16. Number of existing credits at this bank  \\n17. Job  \\n18. Number of people being liable to provide maintenance for  \\n19. Telephone (yes,no)  \\n20. Foreign worker (yes,no)', metadata={'did': 31}),\n",
       "  Document(page_content='**Author**: Dr. Hans Hofmann  \\n**Source**: [UCI](https://archive.ics.uci.edu/ml/datasets/statlog+(german+credit+data)) - 1994    \\n**Please cite**: [UCI](https://archive.ics.uci.edu/ml/citation_policy.html)\\n\\n**German Credit dataset**  \\nThis dataset classifies people described by a set of attributes as good or bad credit risks.\\n\\nThis dataset comes with a cost matrix: \\n``` \\nGood  Bad (predicted)  \\nGood   0    1   (actual)  \\nBad    5    0  \\n```\\n\\nIt is worse to class a customer as good when they are bad (5), than it is to class a customer as bad when they are good (1).  \\n\\n### Attribute description  \\n\\n1. Status of existing checking account, in Deutsche Mark.  \\n2. Duration in months  \\n3. Credit history (credits taken, paid back duly, delays, critical accounts)  \\n4. Purpose of the credit (car, television,...)  \\n5. Credit amount  \\n6. Status of savings account/bonds, in Deutsche Mark.  \\n7. Present employment, in number of years.  \\n8. Installment rate in percentage of disposable income  \\n9. Personal status (married, single,...) and sex  \\n10. Other debtors / guarantors  \\n11. Present residence since X years  \\n12. Property (e.g. real estate)  \\n13. Age in years  \\n14. Other installment plans (banks, stores)  \\n15. Housing (rent, own,...)  \\n16. Number of existing credits at this bank  \\n17. Job  \\n18. Number of people being liable to provide maintenance for  \\n19. Telephone (yes,no)  \\n20. Foreign worker (yes,no)', metadata={'did': 31}),\n",
       "  Document(page_content='**Author**: Dr. Hans Hofmann  \\n**Source**: [UCI](https://archive.ics.uci.edu/ml/datasets/statlog+(german+credit+data)) - 1994    \\n**Please cite**: [UCI](https://archive.ics.uci.edu/ml/citation_policy.html)\\n\\n**German Credit dataset**  \\nThis dataset classifies people described by a set of attributes as good or bad credit risks.\\n\\nThis dataset comes with a cost matrix: \\n``` \\nGood  Bad (predicted)  \\nGood   0    1   (actual)  \\nBad    5    0  \\n```\\n\\nIt is worse to class a customer as good when they are bad (5), than it is to class a customer as bad when they are good (1).  \\n\\n### Attribute description  \\n\\n1. Status of existing checking account, in Deutsche Mark.  \\n2. Duration in months  \\n3. Credit history (credits taken, paid back duly, delays, critical accounts)  \\n4. Purpose of the credit (car, television,...)  \\n5. Credit amount  \\n6. Status of savings account/bonds, in Deutsche Mark.  \\n7. Present employment, in number of years.  \\n8. Installment rate in percentage of disposable income  \\n9. Personal status (married, single,...) and sex  \\n10. Other debtors / guarantors  \\n11. Present residence since X years  \\n12. Property (e.g. real estate)  \\n13. Age in years  \\n14. Other installment plans (banks, stores)  \\n15. Housing (rent, own,...)  \\n16. Number of existing credits at this bank  \\n17. Job  \\n18. Number of people being liable to provide maintenance for  \\n19. Telephone (yes,no)  \\n20. Foreign worker (yes,no)', metadata={'did': 31}),\n",
       "  Document(page_content='**Author**: Dr. Hans Hofmann  \\n**Source**: [UCI](https://archive.ics.uci.edu/ml/datasets/statlog+(german+credit+data)) - 1994    \\n**Please cite**: [UCI](https://archive.ics.uci.edu/ml/citation_policy.html)\\n\\n**German Credit dataset**  \\nThis dataset classifies people described by a set of attributes as good or bad credit risks.\\n\\nThis dataset comes with a cost matrix: \\n``` \\nGood  Bad (predicted)  \\nGood   0    1   (actual)  \\nBad    5    0  \\n```\\n\\nIt is worse to class a customer as good when they are bad (5), than it is to class a customer as bad when they are good (1).  \\n\\n### Attribute description  \\n\\n1. Status of existing checking account, in Deutsche Mark.  \\n2. Duration in months  \\n3. Credit history (credits taken, paid back duly, delays, critical accounts)  \\n4. Purpose of the credit (car, television,...)  \\n5. Credit amount  \\n6. Status of savings account/bonds, in Deutsche Mark.  \\n7. Present employment, in number of years.  \\n8. Installment rate in percentage of disposable income  \\n9. Personal status (married, single,...) and sex  \\n10. Other debtors / guarantors  \\n11. Present residence since X years  \\n12. Property (e.g. real estate)  \\n13. Age in years  \\n14. Other installment plans (banks, stores)  \\n15. Housing (rent, own,...)  \\n16. Number of existing credits at this bank  \\n17. Job  \\n18. Number of people being liable to provide maintenance for  \\n19. Telephone (yes,no)  \\n20. Foreign worker (yes,no)', metadata={'did': 31}),\n",
       "  Document(page_content='**Author**: Confidential - Donated by Ross Quinlan   \\n**Source**: [UCI](http://archive.ics.uci.edu/ml/datasets/credit+approval) - 1987  \\n**Please cite**: [UCI](http://archive.ics.uci.edu/ml/citation_policy.html)  \\n\\n**Credit Approval**\\nThis file concerns credit card applications. All attribute names and values have been changed to meaningless symbols to protect the confidentiality of the data.  \\n   \\nThis dataset is interesting because there is a good mix of attributes -- continuous, nominal with small numbers of values, and nominal with larger numbers of values.  There are also a few missing values.', metadata={'did': 29})]}"
      ]
     },
     "execution_count": 43,
     "metadata": {},
     "output_type": "execute_result"
    }
   ],
   "source": [
    "result"
   ]
  },
  {
   "cell_type": "code",
   "execution_count": 44,
   "metadata": {},
   "outputs": [
    {
     "data": {
      "text/plain": [
       "[31, 31, 31, 31, 29]"
      ]
     },
     "execution_count": 44,
     "metadata": {},
     "output_type": "execute_result"
    }
   ],
   "source": [
    "relevant_docs = [doc.metadata['did'] for doc in result[\"source_documents\"]]\n",
    "relevant_docs"
   ]
  },
  {
   "cell_type": "code",
   "execution_count": 45,
   "metadata": {},
   "outputs": [
    {
     "data": {
      "text/plain": [
       "24    **Author**: Confidential - Donated by Ross Qui...\n",
       "26    **Author**: Dr. Hans Hofmann  \\n**Source**: [U...\n",
       "Name: description, dtype: object"
      ]
     },
     "execution_count": 45,
     "metadata": {},
     "output_type": "execute_result"
    }
   ],
   "source": [
    "# get description of the relevant documents using df\n",
    "test_descrptions = df[df['did'].isin(relevant_docs)][\"description\"]\n",
    "test_descrptions.head()"
   ]
  },
  {
   "cell_type": "code",
   "execution_count": 47,
   "metadata": {},
   "outputs": [
    {
     "name": "stdout",
     "output_type": "stream",
     "text": [
      "**Author**: Confidential - Donated by Ross Quinlan   \n",
      "**Source**: [UCI](http://archive.ics.uci.edu/ml/datasets/credit+approval) - 1987  \n",
      "**Please cite**: [UCI](http://archive.ics.uci.edu/ml/citation_policy.html)  \n",
      "\n",
      "**Credit Approval**\n",
      "This file concerns credit card applications. All attribute names and values have been changed to meaningless symbols to protect the confidentiality of the data.  \n",
      "   \n",
      "This dataset is interesting because there is a good mix of attributes -- continuous, nominal with small numbers of values, and nominal with larger numbers of values.  There are also a few missing values.\n"
     ]
    }
   ],
   "source": [
    "print(test_descrptions.to_list()[0])"
   ]
  }
 ],
 "metadata": {
  "kernelspec": {
   "display_name": "openml",
   "language": "python",
   "name": "python3"
  },
  "language_info": {
   "codemirror_mode": {
    "name": "ipython",
    "version": 3
   },
   "file_extension": ".py",
   "mimetype": "text/x-python",
   "name": "python",
   "nbconvert_exporter": "python",
   "pygments_lexer": "ipython3",
   "version": "3.9.19"
  }
 },
 "nbformat": 4,
 "nbformat_minor": 2
}

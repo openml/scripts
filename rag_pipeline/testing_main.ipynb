{
 "cells": [
  {
   "cell_type": "code",
   "execution_count": 1,
   "metadata": {},
   "outputs": [],
   "source": [
    "from modules.llm import *\n",
    "from modules.utils import *"
   ]
  },
  {
   "cell_type": "code",
   "execution_count": 2,
   "metadata": {},
   "outputs": [],
   "source": [
    "config = {\n",
    "    \"rqa_prompt_template\" : \"This database is a list of dataset metadata. Use the following pieces of context to find the relevant document. Answer only from the context given using the {question} given. If you do not know the answer, say you do not know. {context}\",\n",
    "    \"num_return_documents\" : 50,\n",
    "    \"embedding_model\": \"BAAI/bge-base-en-v1.5\",\n",
    "    \"llm_model\": \"HuggingFaceH4/zephyr-7b-beta\",\n",
    "    \"persist_dir\": \"./chroma_db/\",\n",
    "    \"recreate_chroma\": False,\n",
    "}"
   ]
  },
  {
   "cell_type": "code",
   "execution_count": 3,
   "metadata": {},
   "outputs": [
    {
     "name": "stdout",
     "output_type": "stream",
     "text": [
      "   did                                        description\n",
      "0    2  **Author**: Unknown. Donated by David Sterling...\n",
      "1    3  Author: Alen Shapiro\\nSource: [UCI](https://ar...\n",
      "2    4  **Author**: Unknown\\n**Source**: Collective Ba...\n",
      "3    5  **Author**: H. Altay Guvenir, Burak Acar, Hald...\n",
      "4    6  **Author**: David J. Slate  \\n**Source**: [UCI...\n"
     ]
    }
   ],
   "source": [
    "metadata_df, all_dataset_metadata = create_metadata_dataframe(*get_all_dataset_metadata_from_openml())\n",
    "metadata_df = clean_metadata_dataframe(metadata_df)\n",
    "print(metadata_df.head())\n"
   ]
  },
  {
   "cell_type": "code",
   "execution_count": 4,
   "metadata": {},
   "outputs": [
    {
     "name": "stderr",
     "output_type": "stream",
     "text": [
      "/Users/eragon/.pyenv/versions/3.9.19/envs/openml/lib/python3.9/site-packages/huggingface_hub/file_download.py:1132: FutureWarning: `resume_download` is deprecated and will be removed in version 1.0.0. Downloads always resume when possible. If you want to force a new download, use `force_download=True`.\n",
      "  warnings.warn(\n"
     ]
    }
   ],
   "source": [
    "vectordb = load_document_and_create_vector_store(metadata_df, model_name=config['embedding_model'], recreate_chroma=config['recreate_chroma'], persist_directory=config['persist_dir'])"
   ]
  },
  {
   "cell_type": "code",
   "execution_count": 5,
   "metadata": {},
   "outputs": [
    {
     "name": "stderr",
     "output_type": "stream",
     "text": [
      "/Users/eragon/.pyenv/versions/3.9.19/envs/openml/lib/python3.9/site-packages/langchain_core/_api/deprecation.py:119: LangChainDeprecationWarning: The class `HuggingFaceHub` was deprecated in LangChain 0.0.21 and will be removed in 0.3.0. Use HuggingFaceEndpoint instead.\n",
      "  warn_deprecated(\n"
     ]
    }
   ],
   "source": [
    "retriever, llm = create_retriever_and_llm(vectordb,num_return_documents=config[\"num_return_documents\"], model_repo_id=config[\"llm_model\"])\n",
    "qa = create_llm_chain_and_query(vectordb=vectordb,retriever=retriever,llm=llm, prompt_template = config[\"rqa_prompt_template\"])"
   ]
  },
  {
   "cell_type": "code",
   "execution_count": 20,
   "metadata": {},
   "outputs": [],
   "source": [
    "# %time\n",
    "# query = \"Which datasets would be useful for stock market support?\"\n",
    "# query = \"Which datasets would be useful for heart disease\"\n",
    "# query = \"Which datasets would be useful for flowers\"\n",
    "# query = \"Which datasets would be useful for image classification\"\n",
    "# query = \"My supervisor wants me to work on cloud cover, which datasets can I use\"\n",
    "# query = \"Are there any datasets from the netherlands?\"\n",
    "query = \"Are there any datasets about farm animals?\"\n",
    "# query = \"Find chinese authors\"\n",
    "results = create_result_dataframe(query, qa, all_dataset_metadata)"
   ]
  },
  {
   "cell_type": "code",
   "execution_count": 21,
   "metadata": {},
   "outputs": [
    {
     "data": {
      "text/plain": [
       "array(['**Author**: Richard S. Forsyth   \\n**Source**: [UCI](https://archive.ics.uci.edu/ml/datasets/Zoo) - 5/15/1990   \\n**Please cite**:  \\n\\n**Zoo database**  \\nA simple database containing 17 Boolean-valued attributes describing animals.  The \"type\" attribute appears to be the class attribute. \\n\\nNotes:  \\n* I find it unusual that there are 2 instances of \"frog\" and one of \"girl\"!\\n* feature \\'animal\\' is an identifier (though not unique) and should be ignored when modeling',\n",
       "       'Data Set Information:',\n",
       "       \"**Author**: B.D. Ripley  \\n**Source**: StatLib - Date unknown  \\n**Please cite**:   \\n\\nDataset from `Pattern Recognition and Neural Networks' by B.D. Ripley. Cambridge University Press (1996)  ISBN  0-521-46086-7\\n\\nThe background to the datasets is described in section 1.4; this file relates the computer-readable files to that description.\\n\\nviruses\\n\\nThis is a dataset on 61 viruses with rod-shaped particles affecting various crops (tobacco, tomato, cucumber and others) described by {Fauquet et al. (1988) and analysed by Eslava-G\\\\'omez (1989).  There are 18 measurements on each virus,  the number of amino acid residues per molecule of coat protein.\\n\\nThe whole dataset is in order Hordeviruses (3), Tobraviruses (6), Tobamoviruses (39) and `furoviruses' (13).\\n\\nThese were added as the last (target) attribute\",\n",
       "       '**Author**:   \\n**Source**: Unknown - Date unknown  \\n**Please cite**:   \\n\\nThis S dump contains 22 data sets from the\\nbook Visualizing Data published by\\nHobart Press (books@hobart.com).\\nThe dump was created by data.dump()\\nand can be read back into S by data.restore().\\nThe name of each S data set is the name of\\nthe data set used in the book. To find the\\ndescription of the data set in the book look\\nunder the entry - data, name - in the index.\\nFor example, one data set is barley.\\nTo find the description of barley, look\\nin the index under the entry - data, barley.\\n\\nFile: ../data/visualizing/livestock.csv\\n\\n\\nInformation about the dataset\\nCLASSTYPE: numeric\\nCLASSINDEX: none specific',\n",
       "       'More information about the data sets and the book can be\\nobtained via gopher at the address\\nswis.stern.nyu.edu\\n\\nThe information is filed under\\n---> Academic Departments & Research Centers\\n---> Statistics and Operations Research\\n---> Publications\\n---> A Casebook for a First Course in Statistics and Data Analysis\\n---> Welcome!\\n\\nIt can also be accessed from the World Wide Web (WWW) using a\\nWWW browser (e.g., netscape) starting from the URL address\\nhttp://www.stern.nyu.edu/SOR/Casebook\\n\\n\\n\\nNOTICE: These datasets may be used freely for scientific,\\neducational and/or non-commercial purposes, provided suitable\\nacknowledgment is given (by citing the Chatterjee, Handcock and\\nSimonoff reference above).\\n\\nFile: whale.dat\\n\\nNote: attribute names were generated automatically since there was no\\ninformation in the data itself.\\n\\n\\nInformation about the dataset\\nCLASSTYPE: numeric\\nCLASSINDEX: none specific',\n",
       "       'Multi-label dataset. The birds dataset consists of 327 audio recordings of 12 different vocalizing bird species. Each sound can be assigned to various bird species.',\n",
       "       'Fixed dataset for autoHorse.csv I suggest...', 'dataset for bme',\n",
       "       'MY Dataset', 'Laboratory dataset'], dtype=object)"
      ]
     },
     "execution_count": 21,
     "metadata": {},
     "output_type": "execute_result"
    }
   ],
   "source": [
    "results['description'].values[:10]"
   ]
  },
  {
   "cell_type": "code",
   "execution_count": 11,
   "metadata": {},
   "outputs": [
    {
     "data": {
      "text/plain": [
       "array(['covertype', 'sylva_agnostic', 'test_dataset', 'Domainome',\n",
       "       'dataset_sales', 'dataset-autoHorse_fixed', 'Dataset',\n",
       "       'RelevantImagesDatasetTEST', 'MY_DB', 'Laboratorio_dataset_car'],\n",
       "      dtype=object)"
      ]
     },
     "execution_count": 11,
     "metadata": {},
     "output_type": "execute_result"
    }
   ],
   "source": [
    "results['name'].values[:10]"
   ]
  }
 ],
 "metadata": {
  "kernelspec": {
   "display_name": "openml",
   "language": "python",
   "name": "python3"
  },
  "language_info": {
   "codemirror_mode": {
    "name": "ipython",
    "version": 3
   },
   "file_extension": ".py",
   "mimetype": "text/x-python",
   "name": "python",
   "nbconvert_exporter": "python",
   "pygments_lexer": "ipython3",
   "version": "3.9.19"
  }
 },
 "nbformat": 4,
 "nbformat_minor": 2
}
